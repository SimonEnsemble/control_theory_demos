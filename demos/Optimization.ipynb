{
 "cells": [
  {
   "cell_type": "code",
   "execution_count": 1,
   "metadata": {},
   "outputs": [
    {
     "data": {
      "text/plain": [
       "false"
      ]
     },
     "execution_count": 1,
     "metadata": {},
     "output_type": "execute_result"
    }
   ],
   "source": [
    "using PyPlot, Optim, Statistics, CSV\n",
    "\n",
    "PyPlot.matplotlib.style.use(\"seaborn-pastel\")\n",
    "\n",
    "rcParams = PyPlot.PyDict(PyPlot.matplotlib.\"rcParams\")\n",
    "rcParams[\"font.size\"] = 16\n",
    "rcParams[\"lines.linewidth\"] = 3\n",
    "\n",
    "pygui(false) # true if you want interactive plots to pop up"
   ]
  },
  {
   "cell_type": "markdown",
   "metadata": {},
   "source": [
    "# optimizing a function in `Optim.jl`"
   ]
  },
  {
   "cell_type": "markdown",
   "metadata": {},
   "source": [
    "e.g. yeast growth. put data `yeast.csv` in your present working directory `pwd()`."
   ]
  },
  {
   "cell_type": "code",
   "execution_count": 2,
   "metadata": {},
   "outputs": [
    {
     "data": {
      "text/plain": [
       "\"/home/cokes/control_theory_demos/demos\""
      ]
     },
     "execution_count": 2,
     "metadata": {},
     "output_type": "execute_result"
    }
   ],
   "source": [
    "pwd()"
   ]
  },
  {
   "cell_type": "code",
   "execution_count": 3,
   "metadata": {},
   "outputs": [
    {
     "data": {
      "text/html": [
       "<table class=\"data-frame\"><thead><tr><th></th><th>time</th><th>yeast</th></tr><tr><th></th><th>Float64</th><th>Float64</th></tr></thead><tbody><p>10 rows × 2 columns</p><tr><th>1</th><td>0.0</td><td>0.0681856</td></tr><tr><th>2</th><td>1.37607</td><td>0.0948776</td></tr><tr><th>3</th><td>5.69534</td><td>0.175096</td></tr><tr><th>4</th><td>7.82451</td><td>0.234266</td></tr><tr><th>5</th><td>13.1052</td><td>0.292971</td></tr><tr><th>6</th><td>15.0799</td><td>0.336679</td></tr><tr><th>7</th><td>16.7532</td><td>0.412016</td></tr><tr><th>8</th><td>19.5088</td><td>0.499882</td></tr><tr><th>9</th><td>24.8834</td><td>0.762797</td></tr><tr><th>10</th><td>28.6121</td><td>1.03718</td></tr></tbody></table>"
      ],
      "text/latex": [
       "\\begin{tabular}{r|cc}\n",
       "\t& time & yeast\\\\\n",
       "\t\\hline\n",
       "\t& Float64 & Float64\\\\\n",
       "\t\\hline\n",
       "\t1 & 0.0 & 0.0681856 \\\\\n",
       "\t2 & 1.37607 & 0.0948776 \\\\\n",
       "\t3 & 5.69534 & 0.175096 \\\\\n",
       "\t4 & 7.82451 & 0.234266 \\\\\n",
       "\t5 & 13.1052 & 0.292971 \\\\\n",
       "\t6 & 15.0799 & 0.336679 \\\\\n",
       "\t7 & 16.7532 & 0.412016 \\\\\n",
       "\t8 & 19.5088 & 0.499882 \\\\\n",
       "\t9 & 24.8834 & 0.762797 \\\\\n",
       "\t10 & 28.6121 & 1.03718 \\\\\n",
       "\\end{tabular}\n"
      ],
      "text/plain": [
       "10×2 DataFrames.DataFrame\n",
       "│ Row │ time    │ yeast     │\n",
       "│     │ \u001b[90mFloat64\u001b[39m │ \u001b[90mFloat64\u001b[39m   │\n",
       "├─────┼─────────┼───────────┤\n",
       "│ 1   │ 0.0     │ 0.0681856 │\n",
       "│ 2   │ 1.37607 │ 0.0948776 │\n",
       "│ 3   │ 5.69534 │ 0.175096  │\n",
       "│ 4   │ 7.82451 │ 0.234266  │\n",
       "│ 5   │ 13.1052 │ 0.292971  │\n",
       "│ 6   │ 15.0799 │ 0.336679  │\n",
       "│ 7   │ 16.7532 │ 0.412016  │\n",
       "│ 8   │ 19.5088 │ 0.499882  │\n",
       "│ 9   │ 24.8834 │ 0.762797  │\n",
       "│ 10  │ 28.6121 │ 1.03718   │"
      ]
     },
     "execution_count": 3,
     "metadata": {},
     "output_type": "execute_result"
    }
   ],
   "source": [
    "df = CSV.read(\"yeast.csv\") # read in data\n",
    "first(df, 10) # look at first ten rows"
   ]
  },
  {
   "cell_type": "markdown",
   "metadata": {},
   "source": [
    "unpack `DataFrame` into arrays (since you don't know how to use `DataFrame`s."
   ]
  },
  {
   "cell_type": "code",
   "execution_count": 4,
   "metadata": {},
   "outputs": [
    {
     "data": {
      "text/plain": [
       "11-element Array{Float64,1}:\n",
       "  0.0               \n",
       "  1.3760668481362115\n",
       "  5.695340582080408 \n",
       "  7.824511301916132 \n",
       " 13.105232091621414 \n",
       " 15.07994806299439  \n",
       " 16.75321800262156  \n",
       " 19.50881622452532  \n",
       " 24.883401281831848 \n",
       " 28.612073485350475 \n",
       " 31.567209804398757 "
      ]
     },
     "execution_count": 4,
     "metadata": {},
     "output_type": "execute_result"
    }
   ],
   "source": [
    "t = df[:, :time]"
   ]
  },
  {
   "cell_type": "code",
   "execution_count": 5,
   "metadata": {},
   "outputs": [
    {
     "data": {
      "text/plain": [
       "11-element Array{Float64,1}:\n",
       " 0.06818555749741226\n",
       " 0.09487763943629532\n",
       " 0.1750957931407423 \n",
       " 0.2342657336848174 \n",
       " 0.29297064118142857\n",
       " 0.3366786252165307 \n",
       " 0.41201590393704757\n",
       " 0.4998823443984025 \n",
       " 0.7627970859779638 \n",
       " 1.037178980851983  \n",
       " 1.3322336154225518 "
      ]
     },
     "execution_count": 5,
     "metadata": {},
     "output_type": "execute_result"
    }
   ],
   "source": [
    "y = df[:, :yeast]"
   ]
  },
  {
   "cell_type": "code",
   "execution_count": 6,
   "metadata": {},
   "outputs": [
    {
     "data": {
      "image/png": "[encoded data removed]",
      "text/plain": [
       "Figure(PyObject <Figure size 640x480 with 1 Axes>)"
      ]
     },
     "metadata": {},
     "output_type": "display_data"
    },
    {
     "data": {
      "text/plain": [
       "PyObject Text(34.0, 0.5, 'yeast $y(t)$')"
      ]
     },
     "execution_count": 6,
     "metadata": {},
     "output_type": "execute_result"
    }
   ],
   "source": [
    "figure()\n",
    "scatter(t, y)\n",
    "xlabel(L\"time, $t$\")\n",
    "ylabel(L\"yeast $y(t)$\")"
   ]
  },
  {
   "cell_type": "markdown",
   "metadata": {},
   "source": [
    "exponential growth model for yeast:\n",
    "\n",
    "$$\\frac{dy}{dt}=at$$\n",
    "\n",
    "$\\implies y(t)=y(t=0)e^{at}$."
   ]
  },
  {
   "cell_type": "code",
   "execution_count": 8,
   "metadata": {},
   "outputs": [
    {
     "data": {
      "text/plain": [
       "y_model (generic function with 1 method)"
      ]
     },
     "execution_count": 8,
     "metadata": {},
     "output_type": "execute_result"
    }
   ],
   "source": [
    "y_model(t, a) = y[1] * exp(a * t)"
   ]
  },
  {
   "cell_type": "markdown",
   "metadata": {},
   "source": [
    "**goal**: find $a$ from data.\n",
    "\n",
    "cost function:\n",
    "\n",
    "$$\\displaystyle\\sum_{n=1}^{11} [y_i - y(t=0)e^{at_i}]^2$$\n",
    "\n",
    "where data point $i$ is the pair $(t_i, y_i)$."
   ]
  },
  {
   "cell_type": "code",
   "execution_count": 11,
   "metadata": {},
   "outputs": [
    {
     "data": {
      "text/plain": [
       "cost (generic function with 1 method)"
      ]
     },
     "execution_count": 11,
     "metadata": {},
     "output_type": "execute_result"
    }
   ],
   "source": [
    "function cost(a)\n",
    "    c = 0.0\n",
    "    for i = 1:length(t)\n",
    "        residual_i = y[i] - y_model(t[i], a)\n",
    "        c += residual_i ^ 2 # same as c = c + residual_i ^ 2\n",
    "    end\n",
    "    return c\n",
    "end"
   ]
  },
  {
   "cell_type": "markdown",
   "metadata": {},
   "source": [
    "visualize the cost"
   ]
  },
  {
   "cell_type": "code",
   "execution_count": 12,
   "metadata": {},
   "outputs": [
    {
     "data": {
      "image/png": "[encoded data removed]",
      "text/plain": [
       "Figure(PyObject <Figure size 640x480 with 1 Axes>)"
      ]
     },
     "metadata": {},
     "output_type": "display_data"
    },
    {
     "data": {
      "text/plain": [
       "1-element Array{PyCall.PyObject,1}:\n",
       " PyObject <matplotlib.lines.Line2D object at 0x7fac68f65860>"
      ]
     },
     "execution_count": 12,
     "metadata": {},
     "output_type": "execute_result"
    }
   ],
   "source": [
    "as = range(0.0, 0.12, length=50)\n",
    "\n",
    "figure()\n",
    "xlabel(L\"$a$\")\n",
    "ylabel(\"cost\")\n",
    "plot(as, cost.(as))"
   ]
  },
  {
   "cell_type": "markdown",
   "metadata": {},
   "source": [
    "minimize the cost"
   ]
  },
  {
   "cell_type": "code",
   "execution_count": 13,
   "metadata": {},
   "outputs": [
    {
     "data": {
      "text/plain": [
       "Results of Optimization Algorithm\n",
       " * Algorithm: Brent's Method\n",
       " * Search Interval: [0.000000, 0.160000]\n",
       " * Minimizer: 9.523942e-02\n",
       " * Minimum: 3.035639e-02\n",
       " * Iterations: 14\n",
       " * Convergence: max(|x - x_upper|, |x - x_lower|) <= 2*(1.5e-08*|x|+2.2e-16): true\n",
       " * Objective Function Calls: 15"
      ]
     },
     "execution_count": 13,
     "metadata": {},
     "output_type": "execute_result"
    }
   ],
   "source": [
    "opt_res = optimize(cost, 0.0, 0.16) # tell Optim.jl the optimum a is between 0 and 0.16"
   ]
  },
  {
   "cell_type": "code",
   "execution_count": 14,
   "metadata": {},
   "outputs": [
    {
     "data": {
      "text/plain": [
       "0.09523942185486281"
      ]
     },
     "execution_count": 14,
     "metadata": {},
     "output_type": "execute_result"
    }
   ],
   "source": [
    "a_opt = opt_res.minimizer"
   ]
  },
  {
   "cell_type": "markdown",
   "metadata": {},
   "source": [
    "visualize fit to data"
   ]
  },
  {
   "cell_type": "code",
   "execution_count": 17,
   "metadata": {},
   "outputs": [
    {
     "data": {
      "image/png": "[encoded data removed]",
      "text/plain": [
       "Figure(PyObject <Figure size 640x480 with 1 Axes>)"
      ]
     },
     "metadata": {},
     "output_type": "display_data"
    },
    {
     "data": {
      "text/plain": [
       "PyObject <matplotlib.legend.Legend object at 0x7fac671b2f60>"
      ]
     },
     "execution_count": 17,
     "metadata": {},
     "output_type": "execute_result"
    }
   ],
   "source": [
    "figure()\n",
    "scatter(t, y, label=\"data\")\n",
    "xlabel(L\"time, $t$\")\n",
    "ylabel(L\"yeast $y(t)$\")\n",
    "t_plot = range(0.0, 35, length=100)\n",
    "plot(t_plot, y_model.(t_plot, a_opt), label=\"model fit\", color=\"C1\")\n",
    "legend()"
   ]
  },
  {
   "cell_type": "markdown",
   "metadata": {},
   "source": [
    "## ambitous Beavers: multi-dimensional optimization via Nelder-Mead\n",
    "\n",
    "consider Rosenbrock's banana function (see [Wikipedia](https://en.wikipedia.org/wiki/Rosenbrock_function)):\n",
    "\n",
    "$$f(\\mathbf{x})=f(x_1, x_2)=(a-x_1)^2+b(x_2-x_1^2)^2$$"
   ]
  },
  {
   "cell_type": "code",
   "execution_count": 18,
   "metadata": {},
   "outputs": [
    {
     "data": {
      "text/plain": [
       "f (generic function with 1 method)"
      ]
     },
     "execution_count": 18,
     "metadata": {},
     "output_type": "execute_result"
    }
   ],
   "source": [
    "a = 1.0\n",
    "b = 0.2\n",
    "f(x) = (a - x[1]) ^ 2 + b * (x[2] - x[1] ^ 2) ^ 2"
   ]
  },
  {
   "cell_type": "code",
   "execution_count": 19,
   "metadata": {},
   "outputs": [
    {
     "data": {
      "text/plain": [
       "viz (generic function with 1 method)"
      ]
     },
     "execution_count": 19,
     "metadata": {},
     "output_type": "execute_result"
    }
   ],
   "source": [
    "function viz(f, x₀::Array{Float64, 1}, xₘ::Array{Float64, 1})\n",
    "    x₁ = range(-2.0, 2.0, length=50)\n",
    "    x₂ = range(-4.0, 4.0, length=60)\n",
    "\n",
    "    y = zeros(length(x₂), length(x₁))\n",
    "    for i = 1:length(x₂)\n",
    "        for j = 1:length(x₁)\n",
    "            y[i, j] = f([x₁[j], x₂[i]])\n",
    "        end\n",
    "    end\n",
    "    \n",
    "    figure()\n",
    "    plot_surface(x₁, x₂, y, alpha=0.5, cmap=\"viridis\")\n",
    "    scatter3D([x₀[1]], [x₀[2]], [0.0], color=\"k\")\n",
    "    scatter3D([xₘ[1]], [xₘ[2]], [0.0], color=\"r\")\n",
    "    for x in [x₀, xₘ]\n",
    "        plot3D([x[1], x[1]], [x[2], x[2]], [0.0, f(x)], color=\"gray\")\n",
    "    end\n",
    "    xlabel(L\"$x_1$\")\n",
    "    ylabel(L\"$x_2$\")\n",
    "    zlabel(L\"$f(x_1, x_2)$\")\n",
    "    zlim(zmin=0)\n",
    "    tight_layout()\n",
    "end"
   ]
  },
  {
   "cell_type": "code",
   "execution_count": 20,
   "metadata": {},
   "outputs": [
    {
     "name": "stdout",
     "output_type": "stream",
     "text": [
      "x that minimizes f(x): [1.0001999624681903, 1.000354374495811]\n",
      "min f(x): 4.040068606528116e-8\n"
     ]
    }
   ],
   "source": [
    "x₀ = [-1.0, 0.0] # initial guess\n",
    "\n",
    "opt_res = optimize(f, x₀, NelderMead())\n",
    "\n",
    "pygui(true)\n",
    "\n",
    "println(\"x that minimizes f(x): \", opt_res.minimizer)\n",
    "println(\"min f(x): \", opt_res.minimum)\n",
    "\n",
    "viz(f, x₀, opt_res.minimizer)"
   ]
  }
 ],
 "metadata": {
  "kernelspec": {
   "display_name": "Julia 1.3.1",
   "language": "julia",
   "name": "julia-1.3"
  },
  "language_info": {
   "file_extension": ".jl",
   "mimetype": "application/julia",
   "name": "julia",
   "version": "1.3.1"
  }
 },
 "nbformat": 4,
 "nbformat_minor": 2
}
