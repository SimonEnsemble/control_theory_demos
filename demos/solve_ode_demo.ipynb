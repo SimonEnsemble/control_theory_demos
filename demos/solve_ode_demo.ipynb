{
 "cells": [
  {
   "cell_type": "markdown",
   "metadata": {},
   "source": [
    "# numerically solving differential equations\n",
    "\n",
    "let's use `DifferentialEquations.jl` (documentation [here](https://docs.juliadiffeq.org/stable/index.html)) to compute the numerical solution to differential equations."
   ]
  },
  {
   "cell_type": "code",
   "execution_count": 10,
   "metadata": {},
   "outputs": [],
   "source": [
    "using DifferentialEquations, PyPlot\n",
    "\n",
    "# (optional) change to a cool plot style. \n",
    "# see here for options: https://matplotlib.org/3.1.1/gallery/style_sheets/style_sheets_reference.html\n",
    "PyPlot.matplotlib.style.use(\"Solarize_Light2\")"
   ]
  },
  {
   "cell_type": "markdown",
   "metadata": {},
   "source": [
    "## drug decay\n",
    "\n",
    "a drug decays in your body with first order reaction kinetics. \n",
    "\n",
    "let $a=a(t)$ be the concentration of drug [units: mol/L] in your body at time $t$ [units: hr]. the following is a dynamic model for the decay of the drug:\n",
    "\n",
    "$\\dfrac{da}{dt}= -r a$\n",
    "\n",
    "where $r$ [units: 1/hr] is the decay rate.\n",
    "\n",
    "after the intial dose, the concentration of the drug is $a(t=0)=a_0$. \n",
    "simulate the decay of the drug in your body over 24 hours if no further doses are administered."
   ]
  },
  {
   "cell_type": "markdown",
   "metadata": {},
   "source": [
    "*step 1*: define the parameters in the model (`r`) and the initial condition `a₀`"
   ]
  },
  {
   "cell_type": "code",
   "execution_count": 11,
   "metadata": {},
   "outputs": [
    {
     "data": {
      "text/plain": [
       "0.05"
      ]
     },
     "execution_count": 11,
     "metadata": {},
     "output_type": "execute_result"
    }
   ],
   "source": [
    "r = 0.2 # decay rate, 1/hr\n",
    "a₀ = 0.05 # initial concentration, mol/L"
   ]
  },
  {
   "cell_type": "markdown",
   "metadata": {},
   "source": [
    "*step 2*: define the right hand side of the ODE\n",
    "\n",
    "`DifferentialEquations.jl` enforces you to write the right-hand side as:\n",
    "\n",
    "$\\dfrac{da}{dt}= f(a, p, t)$\n",
    "\n",
    "where $p$ is a vector of parameters (which we will not use).\n",
    "\n",
    "here, $f(a, p, t)=-ra$"
   ]
  },
  {
   "cell_type": "code",
   "execution_count": 12,
   "metadata": {},
   "outputs": [
    {
     "data": {
      "text/plain": [
       "f (generic function with 1 method)"
      ]
     },
     "execution_count": 12,
     "metadata": {},
     "output_type": "execute_result"
    }
   ],
   "source": [
    "f(a, p, t) = - r * a # right hand side of ODE"
   ]
  },
  {
   "cell_type": "markdown",
   "metadata": {},
   "source": [
    "*step 3*: use `DifferentialEquations.jl` to solve the ODE numerically.\n",
    "\n",
    "* `time_span` is the time span over which we wish to compute the solution\n",
    "* `ODEProblem()` is how we tell `DifferentialEquations.jl` about our ODE\n",
    "* `solve()` tells `DifferentialEquations.jl` to numerically solve our ODE"
   ]
  },
  {
   "cell_type": "code",
   "execution_count": 13,
   "metadata": {},
   "outputs": [
    {
     "data": {
      "text/plain": [
       "retcode: Success\n",
       "Interpolation: Automatic order switching interpolation\n",
       "t: 13-element Array{Float64,1}:\n",
       "  0.0               \n",
       "  0.1385204951267627\n",
       "  0.967186411127158 \n",
       "  2.3746288536788995\n",
       "  4.0157691781970035\n",
       "  6.04573862097466  \n",
       "  8.343230665477723 \n",
       " 10.943395549857078 \n",
       " 13.784247831462256 \n",
       " 16.866062272063417 \n",
       " 20.16841414936944  \n",
       " 23.70934239032856  \n",
       " 24.0               \n",
       "u: 13-element Array{Float64,1}:\n",
       " 0.05                  \n",
       " 0.04863380700204163   \n",
       " 0.04120607615823622   \n",
       " 0.031096563063739466  \n",
       " 0.022395709930665086  \n",
       " 0.014922592463793818  \n",
       " 0.009425133130309626  \n",
       " 0.005603276660896331  \n",
       " 0.003174626245547482  \n",
       " 0.0017140224931608049 \n",
       " 0.0008855015830573804 \n",
       " 0.0004361615612349008 \n",
       " 0.00041152970559181116"
      ]
     },
     "execution_count": 13,
     "metadata": {},
     "output_type": "execute_result"
    }
   ],
   "source": [
    "time_span = (0.0, 24.0) # solve from t = 0 to t = 24 hrs\n",
    "prob = ODEProblem(f, a₀, time_span)\n",
    "a_of_t = solve(prob)"
   ]
  },
  {
   "cell_type": "markdown",
   "metadata": {},
   "source": [
    "the output of `solve`, `a_of_t` is a function, where we can find the solution at e.g., $t=0.1$ as `a_of_t(0.1)`"
   ]
  },
  {
   "cell_type": "code",
   "execution_count": 14,
   "metadata": {},
   "outputs": [
    {
     "data": {
      "text/plain": [
       "0.049009933665349815"
      ]
     },
     "execution_count": 14,
     "metadata": {},
     "output_type": "execute_result"
    }
   ],
   "source": [
    "a_of_t(0.1)"
   ]
  },
  {
   "cell_type": "markdown",
   "metadata": {},
   "source": [
    "*step 4:* plot the solution"
   ]
  },
  {
   "cell_type": "code",
   "execution_count": 15,
   "metadata": {},
   "outputs": [
    {
     "data": {
      "image/png": "[encoded data removed]",
      "text/plain": [
       "Figure(PyObject <Figure size 640x480 with 1 Axes>)"
      ]
     },
     "metadata": {},
     "output_type": "display_data"
    },
    {
     "data": {
      "text/plain": [
       "1-element Array{PyCall.PyObject,1}:\n",
       " PyObject <matplotlib.lines.Line2D object at 0x7f0df3422ba8>"
      ]
     },
     "execution_count": 15,
     "metadata": {},
     "output_type": "execute_result"
    }
   ],
   "source": [
    "t = range(0.0, 24.0, length=100) # range of times t_i\n",
    "a = a_of_t.(t) # corresponding a(t_i)\n",
    "\n",
    "figure()\n",
    "xlabel(L\"time, $t$\")\n",
    "ylabel(L\"concentration, $a(t)$\")\n",
    "ylim([0.0, 0.06])\n",
    "plot(t, a)"
   ]
  },
  {
   "cell_type": "markdown",
   "metadata": {},
   "source": [
    "**ambitious Beavers only who enjoy programming challenges:** given the solution to the ODE, say the drug is ineffective after its concentration is below 0.01 mol/L. at what time, then, does the drug become ineffective? (write a code to determine the answer to this, rather than eye-balling the plot)."
   ]
  },
  {
   "cell_type": "code",
   "execution_count": null,
   "metadata": {},
   "outputs": [],
   "source": []
  }
 ],
 "metadata": {
  "kernelspec": {
   "display_name": "Julia 1.3.0",
   "language": "julia",
   "name": "julia-1.3"
  },
  "language_info": {
   "file_extension": ".jl",
   "mimetype": "application/julia",
   "name": "julia",
   "version": "1.3.0"
  }
 },
 "nbformat": 4,
 "nbformat_minor": 2
}
