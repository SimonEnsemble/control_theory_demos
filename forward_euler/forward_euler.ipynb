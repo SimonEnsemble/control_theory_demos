{
 "cells": [
  {
   "cell_type": "markdown",
   "metadata": {},
   "source": [
    "# Forward Euler Method\n",
    "\n",
    "Consider an ODE for $h(t)$:\n",
    "\n",
    "$A\\dfrac{dh}{dt} = q_i(t) - \\frac{1}{R} h$\n",
    "\n",
    "$h(t=0)=h_0$.\n",
    "\n",
    "$R$ and $A$, resistance to flow and area of tank from helicopter view, are constant.\n",
    "\n",
    "Forward Euler's method using time step $\\Delta t$ gives for $h_{i} \\approx h(i\\Delta t)$:\n",
    "\n",
    "$h_{i+1}=h_i + f(h_i, t_i) \\Delta t$ for $i=0,1,...$\n",
    "\n",
    "where $f(h,t):= [q_i(t) - \\frac{1}{R} h]/A$ and $t_i = i \\Delta t$."
   ]
  },
  {
   "cell_type": "markdown",
   "metadata": {},
   "source": [
    "## Define parameters"
   ]
  },
  {
   "cell_type": "code",
   "execution_count": 1,
   "metadata": {},
   "outputs": [
    {
     "data": {
      "text/plain": [
       "qᵢ (generic function with 1 method)"
      ]
     },
     "execution_count": 1,
     "metadata": {},
     "output_type": "execute_result"
    }
   ],
   "source": [
    "N = 1000 # number of time steps\n",
    "Δt = 0.01 # time step\n",
    "R = 2.0 # resistance to flow (min/s²)\n",
    "A = 2.0 # area of tank (m²)\n",
    "h₀ = 0.0 # initial liq. level, m\n",
    "qᵢ(t) = 0.1 # m³/s"
   ]
  },
  {
   "cell_type": "code",
   "execution_count": 2,
   "metadata": {},
   "outputs": [
    {
     "data": {
      "text/plain": [
       "f (generic function with 1 method)"
      ]
     },
     "execution_count": 2,
     "metadata": {},
     "output_type": "execute_result"
    }
   ],
   "source": [
    "f(h, t) = (qᵢ(t) - h / R) / A"
   ]
  },
  {
   "cell_type": "markdown",
   "metadata": {},
   "source": [
    "## March forward in time using recurrence relation\n",
    "\n",
    "Store times in this array"
   ]
  },
  {
   "cell_type": "code",
   "execution_count": 3,
   "metadata": {},
   "outputs": [],
   "source": [
    "ts = [i * Δt for i = 0:N];"
   ]
  },
  {
   "cell_type": "markdown",
   "metadata": {},
   "source": [
    "Store h's in this array"
   ]
  },
  {
   "cell_type": "code",
   "execution_count": 4,
   "metadata": {},
   "outputs": [],
   "source": [
    "hs = zeros(N + 1)\n",
    "hs[1] = h₀;"
   ]
  },
  {
   "cell_type": "markdown",
   "metadata": {},
   "source": [
    "Take time steps"
   ]
  },
  {
   "cell_type": "code",
   "execution_count": 5,
   "metadata": {},
   "outputs": [],
   "source": [
    "for i = 1:N\n",
    "    hs[i + 1] = hs[i] + f(hs[i], ts[i]) * Δt\n",
    "end"
   ]
  },
  {
   "cell_type": "markdown",
   "metadata": {},
   "source": [
    "Plot solution"
   ]
  },
  {
   "cell_type": "code",
   "execution_count": 6,
   "metadata": {},
   "outputs": [],
   "source": [
    "using PyPlot # plotting library"
   ]
  },
  {
   "cell_type": "code",
   "execution_count": 7,
   "metadata": {},
   "outputs": [
    {
     "data": {
      "image/png": "[encoded data removed]",
      "text/plain": [
       "Figure(PyObject <Figure size 640x480 with 1 Axes>)"
      ]
     },
     "metadata": {},
     "output_type": "display_data"
    },
    {
     "data": {
      "text/plain": [
       "PyObject Text(28.000000000000014, 0.5, 'liq. level $h$ [m]')"
      ]
     },
     "execution_count": 7,
     "metadata": {},
     "output_type": "execute_result"
    }
   ],
   "source": [
    "figure()\n",
    "scatter(ts, hs)\n",
    "xlabel(\"time \\$t\\$ [s]\")\n",
    "ylabel(\"liq. level \\$h\\$ [m]\")"
   ]
  },
  {
   "cell_type": "markdown",
   "metadata": {},
   "source": [
    "## A general function for Forward Euler"
   ]
  },
  {
   "cell_type": "code",
   "execution_count": 8,
   "metadata": {},
   "outputs": [
    {
     "data": {
      "text/plain": [
       "forward_euler (generic function with 1 method)"
      ]
     },
     "execution_count": 8,
     "metadata": {},
     "output_type": "execute_result"
    }
   ],
   "source": [
    "function forward_euler(f::Function, Δt::Float64, N::Int, h₀::Float64)\n",
    "    # define time array\n",
    "    ts = [i * Δt for i = 0:N]\n",
    "    \n",
    "    # allocate memory for numerical solution to h\n",
    "    hs = zeros(N + 1)\n",
    "    \n",
    "    # record initial condition\n",
    "    hs[1] = h₀;\n",
    "    \n",
    "    # take time steps\n",
    "    for i = 1:N\n",
    "        hs[i + 1] = hs[i] + f(hs[i], ts[i]) * Δt\n",
    "    end\n",
    "    \n",
    "    # return solution\n",
    "    return ts, hs\n",
    "end"
   ]
  },
  {
   "cell_type": "markdown",
   "metadata": {},
   "source": [
    "## Compare to an exact solution\n",
    "\n",
    "\\begin{equation}\n",
    "\\dfrac{dh}{dt} = -h \\\\\n",
    "h(t = 0) = 1\n",
    "\\end{equation}\n",
    "\n",
    "The exact solution is $h(t)=e^{-t}$.\n",
    "\n",
    "Let's get the numerical approximation to the solution first.\n",
    "\n",
    "Try $\\Delta t$ 0.1, 0.01, 1.5, inspired by [these notes](https://math.la.asu.edu/~dajones/class/275/ch2.pdf)."
   ]
  },
  {
   "cell_type": "code",
   "execution_count": 9,
   "metadata": {},
   "outputs": [],
   "source": [
    "f(h, t) = -h\n",
    "Δt = 1.5\n",
    "N = ceil(Int, 6.0 / Δt)\n",
    "h₀ = 1.0\n",
    "\n",
    "ts, hs_approx = forward_euler(f, Δt, N, h₀);"
   ]
  },
  {
   "cell_type": "markdown",
   "metadata": {},
   "source": [
    "Now the exact solution for comparision"
   ]
  },
  {
   "cell_type": "code",
   "execution_count": 10,
   "metadata": {},
   "outputs": [],
   "source": [
    "hs_exact = exp.(-ts);"
   ]
  },
  {
   "cell_type": "markdown",
   "metadata": {},
   "source": [
    "Plot to compare."
   ]
  },
  {
   "cell_type": "code",
   "execution_count": 11,
   "metadata": {},
   "outputs": [
    {
     "data": {
      "image/png": "[encoded data removed]",
      "text/plain": [
       "Figure(PyObject <Figure size 640x480 with 1 Axes>)"
      ]
     },
     "metadata": {},
     "output_type": "display_data"
    },
    {
     "data": {
      "text/plain": [
       "PyObject Text(26.0, 0.5, '$h(t)$')"
      ]
     },
     "execution_count": 11,
     "metadata": {},
     "output_type": "execute_result"
    }
   ],
   "source": [
    "figure()\n",
    "scatter(ts, hs_approx, label=\"approx.\", color=\"g\")\n",
    "plot(ts, hs_exact, label=\"exact\", color=\"y\")\n",
    "legend()\n",
    "xlabel(\"\\$t\\$\")\n",
    "ylabel(\"\\$h(t)\\$\")"
   ]
  }
 ],
 "metadata": {
  "kernelspec": {
   "display_name": "Julia 1.0.3",
   "language": "julia",
   "name": "julia-1.0"
  },
  "language_info": {
   "file_extension": ".jl",
   "mimetype": "application/julia",
   "name": "julia",
   "version": "1.0.3"
  }
 },
 "nbformat": 4,
 "nbformat_minor": 2
}
