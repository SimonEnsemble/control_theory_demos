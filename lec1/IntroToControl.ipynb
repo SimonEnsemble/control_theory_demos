{
 "cells": [
  {
   "cell_type": "markdown",
   "metadata": {
    "slideshow": {
     "slide_type": "slide"
    }
   },
   "source": [
    "> If we could first know where we are\n",
    "> and whither we are tending,\n",
    "> we could better judge what to do\n",
    "> and how to do it.\n",
    ">\n",
    "> Abraham Lincoln (1809-1865)"
   ]
  },
  {
   "cell_type": "markdown",
   "metadata": {
    "slideshow": {
     "slide_type": "slide"
    }
   },
   "source": [
    "# Intro to process control\n",
    "\n",
    "Pure water is mixed with salt granules in a tank to produce saline solution.\n",
    "\n",
    "<center>\n",
    "    <img src=\"salt_mixer.png\" width=500\\>\n",
    "</center>"
   ]
  },
  {
   "cell_type": "markdown",
   "metadata": {
    "slideshow": {
     "slide_type": "fragment"
    }
   },
   "source": [
    "* it is desired to maintain the concentration of salt, $c$, at a *set point*\n",
    "* the size of the salt granules is highly irregular, and thus the mass flow rate of salt $w$ is highly variable\n",
    "* a control valve allows the adjustment of the flow rate of pure water, $q$, to compensate for fluctuations in $w$"
   ]
  },
  {
   "cell_type": "markdown",
   "metadata": {
    "slideshow": {
     "slide_type": "subslide"
    }
   },
   "source": [
    "Important variables that have been selected to receive the attention of the control system typically have target values at which they are required to be maintained. These target values are called *set points*.\n",
    "\n",
    "-Ogunnaike and Ray. Process Dynamics, Modeling, and Control"
   ]
  },
  {
   "cell_type": "markdown",
   "metadata": {
    "slideshow": {
     "slide_type": "slide"
    }
   },
   "source": [
    "### Variable nomenclature\n",
    "\n",
    "What are the controlled, manipulated, and disturbance variables?"
   ]
  },
  {
   "cell_type": "markdown",
   "metadata": {
    "slideshow": {
     "slide_type": "fragment"
    }
   },
   "source": [
    "* $c(t)$ is the controlled variable since it is desired to maintain it at a set point"
   ]
  },
  {
   "cell_type": "markdown",
   "metadata": {
    "slideshow": {
     "slide_type": "fragment"
    }
   },
   "source": [
    "* $q(t)$ is the manipulated variable since we manipulate it via the control valve as a means to adjust the controlled variable $c$"
   ]
  },
  {
   "cell_type": "markdown",
   "metadata": {
    "slideshow": {
     "slide_type": "fragment"
    }
   },
   "source": [
    "* $w(t)$ is the disturbance variable because it fluctuates, is not controlled/manipulated, and influences the controlled variable"
   ]
  },
  {
   "cell_type": "markdown",
   "metadata": {
    "slideshow": {
     "slide_type": "slide"
    }
   },
   "source": [
    "### Difference between feedback and feedforward control strategies\n",
    "\n",
    "* In **feedback control**, we *measure the controlled variable* and adjust the manipulated variable on the basis of this measurement.\n",
    "* In **feedforward control**, we *measure the disturbance variable* and adjust the manipulated variable on the basis of this measurement."
   ]
  },
  {
   "cell_type": "markdown",
   "metadata": {
    "slideshow": {
     "slide_type": "subslide"
    }
   },
   "source": [
    "🌵 *Feedback control strategy:* adjust $q(t)$ based on a measurement of $c(t)$\n",
    "\n",
    "<center>\n",
    "    <img src=\"salt_mixer_FB_control.png\" width=700/>\n",
    "</center>"
   ]
  },
  {
   "cell_type": "markdown",
   "metadata": {
    "slideshow": {
     "slide_type": "subslide"
    }
   },
   "source": [
    "🌵 *Feedforward control strategy:* adjust $q(t)$ based on a measurement of $w(t)$\n",
    "\n",
    "<center>\n",
    "    <img src=\"salt_mixer_FF_control.png\" width=400/>\n",
    "</center>"
   ]
  },
  {
   "cell_type": "markdown",
   "metadata": {
    "slideshow": {
     "slide_type": "slide"
    }
   },
   "source": [
    "### Feedback versus feedforward control"
   ]
  },
  {
   "cell_type": "markdown",
   "metadata": {
    "slideshow": {
     "slide_type": "subslide"
    }
   },
   "source": [
    "#### Feedforward control"
   ]
  },
  {
   "cell_type": "markdown",
   "metadata": {
    "slideshow": {
     "slide_type": "fragment"
    }
   },
   "source": [
    "👍 \"anticipatory control\": corrective action is taken *before* the controlled variable is perturbed; controller decision made *before* the process is affected by the incoming disturbance"
   ]
  },
  {
   "cell_type": "markdown",
   "metadata": {
    "slideshow": {
     "slide_type": "fragment"
    }
   },
   "source": [
    "👎 the disturbance variable must be measured (often difficult or impossible)"
   ]
  },
  {
   "cell_type": "markdown",
   "metadata": {
    "slideshow": {
     "slide_type": "fragment"
    }
   },
   "source": [
    "👎 requires an accurate process model to predict how the disturbance and manipulated variable will affect the controlled variable so we can properly compensate for the effect of the disturbance by adjusting the manipulated variable"
   ]
  },
  {
   "cell_type": "markdown",
   "metadata": {
    "slideshow": {
     "slide_type": "subslide"
    }
   },
   "source": [
    "#### Feedforward control\n",
    "\n",
    "👎 corrective action not taken for unmeasured disturbances\n",
    "\n",
    "<center>\n",
    "    <img src=\"salt_mixer_FF_control_w_troll.png\" width=350/>\n",
    "</center>"
   ]
  },
  {
   "cell_type": "markdown",
   "metadata": {
    "slideshow": {
     "slide_type": "subslide"
    }
   },
   "source": [
    "#### Feedback control"
   ]
  },
  {
   "cell_type": "markdown",
   "metadata": {
    "slideshow": {
     "slide_type": "fragment"
    }
   },
   "source": [
    "👍 corrective action taken regardless of the disturbance\n",
    "\n",
    "\n",
    "<center>\n",
    "    <img src=\"salt_mixer_FB_control_w_troll.png\" width=450/>\n",
    "</center>"
   ]
  },
  {
   "cell_type": "markdown",
   "metadata": {
    "slideshow": {
     "slide_type": "subslide"
    }
   },
   "source": [
    "#### Feedback control\n",
    "\n",
    "👍 minimal need for an accurate process model (except for designing & tuning controller and sizing control elements!)"
   ]
  },
  {
   "cell_type": "markdown",
   "metadata": {
    "slideshow": {
     "slide_type": "fragment"
    }
   },
   "source": [
    "👎 no corrective action taken until a process upset has already occurred; controller decisions taken \"after the fact\" of a disturbance"
   ]
  },
  {
   "cell_type": "markdown",
   "metadata": {
    "slideshow": {
     "slide_type": "slide"
    }
   },
   "source": [
    "# Transfer function model (linear)\n",
    "\n",
    "Transfer function $G(s)$ characterizes the dynamic response of an output (dependent) variable $y^*(t)$ to changes in an input (independent) variable $u^*(t)$.\n",
    "\n",
    "\\begin{equation}\n",
    "    G(s) := \\frac{Y^*(s)}{U^*(s)}\n",
    "\\end{equation}\n",
    "where $Y^*(s)=\\mathcal{L}[y^*(t)]$, $U^*(s)=\\mathcal{L}[u^*(t)]$."
   ]
  },
  {
   "cell_type": "markdown",
   "metadata": {
    "slideshow": {
     "slide_type": "fragment"
    }
   },
   "source": [
    "So Laplace transform of output $Y^*(s)=G(s)U^*(s)$.\n",
    "\n",
    "<center>\n",
    "    <img src=\"transfer_function.png\" width=350/>\n",
    "</center>"
   ]
  },
  {
   "cell_type": "markdown",
   "metadata": {
    "slideshow": {
     "slide_type": "fragment"
    }
   },
   "source": [
    "the input $u^*(t)$ could be a disturbance or manipulated variable."
   ]
  },
  {
   "cell_type": "markdown",
   "metadata": {
    "slideshow": {
     "slide_type": "subslide"
    }
   },
   "source": [
    "The controlled variable (the output of the process) is influenced by both the manipulated variable and the disturbance variable. Each input (manipulated and disturbance variables) has a transfer function associated with its contribution to the output.\n",
    "\n",
    "i.e.\n",
    "\n",
    "$Y(s) = G_p(s) U^*(s) + G_d(s) D^*(s)$,\n",
    "\n",
    "where \n",
    "\n",
    "* $Y^*(s)$ is the output\n",
    "* $U^*(s)$ is the manipulated variable\n",
    "* $D^*(s)$ is the disturbance variable\n",
    "* $G_p(s)$ is the process transfer function relating contribution of manipulated variable to the controlled variable\n",
    "* $G_d(s)$ is the disturbance transfer function relating contribution of disturbance variable to the controlled variable"
   ]
  },
  {
   "cell_type": "markdown",
   "metadata": {
    "slideshow": {
     "slide_type": "subslide"
    }
   },
   "source": [
    "### Example\n",
    "\n",
    "<center>\n",
    "    <img src=\"salt_mixer.png\" width=400/>\n",
    "</center>\n",
    "\n",
    "dynamic model relating $c(t)$, $w(t)$, and $q(t)$ is:\n",
    "\n",
    "\\begin{equation}\n",
    "    V\\frac{dc}{dt} = w - q c,\n",
    "\\end{equation} assuming\n",
    "* well-mixed tank\n",
    "* the density of the liquid is independent of the salt concentration\n",
    "* the salt fully (and immediately) disolves in the water\n",
    "\n",
    "Derive the transfer functions relating the controlled variable $c$ to the manipulated and disturbance variables $q$ and $w$, respectively."
   ]
  },
  {
   "cell_type": "markdown",
   "metadata": {
    "slideshow": {
     "slide_type": "subslide"
    }
   },
   "source": [
    "#### Step 1: Linearize\n",
    "\n",
    "The model is non-linear!"
   ]
  },
  {
   "cell_type": "markdown",
   "metadata": {
    "slideshow": {
     "slide_type": "fragment"
    }
   },
   "source": [
    "Let $\\bar{c}$, $\\bar{w}$, and $\\bar{q}$ be the nominal steady-state values, which satisfy:\n",
    "\\begin{equation}\n",
    "    \\bar{w}-\\bar{q}\\bar{c}=0.\n",
    "\\end{equation}"
   ]
  },
  {
   "cell_type": "markdown",
   "metadata": {
    "slideshow": {
     "slide_type": "fragment"
    }
   },
   "source": [
    "Define deviation variables, e.g. $c^*(t):=c(t)-\\bar{c}$"
   ]
  },
  {
   "cell_type": "markdown",
   "metadata": {
    "slideshow": {
     "slide_type": "subslide"
    }
   },
   "source": [
    "Let $f(c, q, w):=w - qc$. Then:\n",
    "\n",
    "\\begin{equation}\n",
    "V\\frac{dc}{dt} = V\\frac{dc^*}{dt} =f(\\bar{c}, \\bar{q}, \\bar{w}) +  \\frac{\\partial f}{\\partial c}  \\bigg \\rvert _{\\bar{c}, \\bar{q}, \\bar{w}} c^* + \\frac{\\partial f}{\\partial q}  \\bigg \\rvert_{\\bar{c}, \\bar{q}, \\bar{w}} q^* +  \\frac{\\partial f}{\\partial w}  \\bigg \\rvert_{\\bar{c}, \\bar{q}, \\bar{w}} w^*\n",
    "\\end{equation}\n",
    "\n",
    "and, finally:\n",
    "\n",
    "\\begin{equation}\n",
    "    V\\frac{dc^*}{dt} = w^* - \\bar{q} c^* -\\bar{c}q^*\n",
    "\\end{equation}\n",
    "\n",
    "Linearization automatically converts model into deviation form."
   ]
  },
  {
   "cell_type": "markdown",
   "metadata": {
    "slideshow": {
     "slide_type": "subslide"
    }
   },
   "source": [
    "#### Step 2: Take the Laplace transform"
   ]
  },
  {
   "cell_type": "markdown",
   "metadata": {
    "slideshow": {
     "slide_type": "fragment"
    }
   },
   "source": [
    "\\begin{equation}\n",
    "    VsC^*(s) -c^*(t=0)= W^*(s) - \\bar{q} C^*(s) -\\bar{c}Q^*(s)\n",
    "\\end{equation}\n",
    "\n",
    "Collect $C^*(s):=\\mathcal{L}[c(t)]$ on one side:\n",
    "\n",
    "\\begin{equation}\n",
    "    C^*(s) = \\frac{\\bar{q}^{-1}}{V \\bar{q}^{-1}s+1} W^*(s) + \\frac{-\\bar{c}\\bar{q}^{-1}}{V \\bar{q}^{-1}s+1}Q^*(s)\n",
    "\\end{equation}"
   ]
  },
  {
   "cell_type": "markdown",
   "metadata": {
    "slideshow": {
     "slide_type": "fragment"
    }
   },
   "source": [
    "So here\n",
    "\n",
    "\\begin{equation}\n",
    "    G_p(s)=\\frac{-\\bar{c}\\bar{q}^{-1}}{V \\bar{q}^{-1}s+1}\n",
    "\\end{equation}\n",
    "($q$ is the manipulated variable)\n",
    "\n",
    "and \n",
    "\n",
    "\\begin{equation}\n",
    "    G_d(s)=\\frac{\\bar{q}^{-1}}{V \\bar{q}^{-1}s+1}\n",
    "\\end{equation}\n",
    "($w$ is the disturbance variable)"
   ]
  },
  {
   "cell_type": "markdown",
   "metadata": {
    "slideshow": {
     "slide_type": "slide"
    }
   },
   "source": [
    "#### Block diagram (open loop)\n",
    "\n",
    "This encapsulates the physics we are stuck with. A CHE 361 problem.\n",
    "\n",
    "<center>\n",
    "    <img src=\"salt_mixer_open_loop.png\" width=350/>\n",
    "</center>\n",
    "\n",
    "(Though as engineers we can, through process design (e.g. $V$), manipulate the open loop dynamics to an extent.)"
   ]
  },
  {
   "cell_type": "markdown",
   "metadata": {
    "slideshow": {
     "slide_type": "slide"
    }
   },
   "source": [
    "### Salt mixer under feedback control\n",
    "\n",
    "<center>\n",
    "    <img src=\"salt_mixer_FB_control.png\" width=600/>\n",
    "</center>"
   ]
  },
  {
   "cell_type": "markdown",
   "metadata": {
    "slideshow": {
     "slide_type": "slide"
    }
   },
   "source": [
    "### Simplified three-block diagram (closed loop)\n",
    "\n",
    "<center>\n",
    "    <img src=\"salt_mixer_closed_loop.png\" width=550/>\n",
    "</center>\n",
    "\n",
    "Controller transfer function:\n",
    "\\begin{equation}\n",
    "    G_c(s):=\\frac{Q^*(s)}{E(s)}\n",
    "\\end{equation}\n",
    "encapsulates control law; determines how the feedback controller, based on the error $E$ between set point and actual salt concentration, adjusts the flow rate of water $Q$ (the manipulated variable) to maintain the salt concentration at the set point in the face of disturbances in the incoming mass flow rate of salt, $w$."
   ]
  },
  {
   "cell_type": "markdown",
   "metadata": {
    "slideshow": {
     "slide_type": "subslide"
    }
   },
   "source": [
    "This *simplified* block diagram neglects dynamics and gains of concentration sensor and transmitter, current-to-pressure transducer, and pneumatic control valve."
   ]
  },
  {
   "cell_type": "markdown",
   "metadata": {
    "slideshow": {
     "slide_type": "subslide"
    }
   },
   "source": [
    "### Simplified three-block diagram (closed loop)\n",
    "\n",
    "<center>\n",
    "    <img src=\"salt_mixer_closed_loop.png\" width=550/>\n",
    "</center>\n",
    "\n",
    "$G_c(s)$ is what the control engineer adds to nature to manipulate it. This is a CHE 461 problem."
   ]
  },
  {
   "cell_type": "markdown",
   "metadata": {
    "slideshow": {
     "slide_type": "slide"
    }
   },
   "source": [
    "### Closed-loop transfer functions\n",
    "\n",
    "<center>\n",
    "    <img src=\"general_closed_loop.png\" width=550/>\n",
    "</center>\n",
    "\n",
    "$Y^*$ is output and controlled variable, $D^*$ is disturbance variable, $U^*$ is manipulated variable.\n",
    "\n",
    "#### We are concerned with two responses\n",
    "\n",
    "🌵 servomechanism (servo) problem: how $Y^*$ responds to a set point change $Y_{sp}^*$\n",
    "\n",
    "🌵 regulator problem: how $Y^*$ responds to a change in the disturbance variable $D^*$"
   ]
  },
  {
   "cell_type": "markdown",
   "metadata": {
    "slideshow": {
     "slide_type": "subslide"
    }
   },
   "source": [
    "#### We seek two closed-loop transfer functions\n",
    "\n",
    "🌵 servomechanism (servo) problem: $\\frac{Y^*}{Y^*_{sp}}$ (assume $D^*=0$)\n",
    "\n",
    "🌵 regulator problem: $\\frac{Y^*}{D^*}$ (assume $Y^*_{sp}=0$)\n"
   ]
  },
  {
   "cell_type": "markdown",
   "metadata": {
    "slideshow": {
     "slide_type": "subslide"
    }
   },
   "source": [
    "Well we know three equations:\n",
    "\n",
    "1. \\begin{equation}\n",
    "    Y^*=G_dD^*+G_pU^*\n",
    "\\end{equation}\n",
    "2. \\begin{equation}\n",
    "    U^* = G_c E\n",
    "\\end{equation}\n",
    "3. \\begin{equation}\n",
    "    E=Y_{sp}^*-Y^*\n",
    "\\end{equation}\n"
   ]
  },
  {
   "cell_type": "markdown",
   "metadata": {
    "slideshow": {
     "slide_type": "fragment"
    }
   },
   "source": [
    "So eliminating $E$ from eqn. 2 and $U^*$ from eqn. 1: \n",
    "\n",
    "\\begin{equation}\n",
    "    Y^*=G_dD^* +G_pG_c(Y_{sp}^*-Y^*)\n",
    "\\end{equation}\n",
    "\n",
    "solving for $Y^*$ reveals the transfer functions for both the regulator and servo problem."
   ]
  },
  {
   "cell_type": "markdown",
   "metadata": {
    "slideshow": {
     "slide_type": "fragment"
    }
   },
   "source": [
    "\\begin{equation}\n",
    "Y=\\frac{G_d}{1+ G_cG_p}D^* + \\frac{G_p G_c}{1+ G_cG_p} Y_{sp}^*\n",
    "\\end{equation}"
   ]
  },
  {
   "cell_type": "markdown",
   "metadata": {
    "slideshow": {
     "slide_type": "subslide"
    }
   },
   "source": [
    "Note that $G_cG_p$ is the \"open-loop\" transfer function $G_{OL}$ since it relates the measurement $Y_m$ to $Y_{sp}$ if the feedback loop is opened just before the comparator."
   ]
  },
  {
   "cell_type": "markdown",
   "metadata": {
    "slideshow": {
     "slide_type": "subslide"
    }
   },
   "source": [
    "*Why are these closed loop transfer functions useful?*\n",
    "\n",
    "If we know how the controlled variable $Y^*$ responds to changes in the disturbance variable $D$ (i.e. if we know $G_d$) and to changes in the manipulated variable $U^*$ (i.e. if we know $G_p$)...\n",
    "\n",
    "... we can predict how $Y^*$ responds to disturbances and set point changes for different closed-loop, feedback control schemes (i.e. different $G_c$'s)! We can then design $G_c(s)$ to keep $Y^*$ close to its set point in the face of disturbances (regulator problem) and set point changes (servo problem)."
   ]
  }
 ],
 "metadata": {
  "kernelspec": {
   "display_name": "Python 3",
   "language": "python",
   "name": "python3"
  },
  "language_info": {
   "codemirror_mode": {
    "name": "ipython",
    "version": 3
   },
   "file_extension": ".py",
   "mimetype": "text/x-python",
   "name": "python",
   "nbconvert_exporter": "python",
   "pygments_lexer": "ipython3",
   "version": "3.6.7"
  }
 },
 "nbformat": 4,
 "nbformat_minor": 2
}
