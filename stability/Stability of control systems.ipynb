{
 "cells": [
  {
   "cell_type": "markdown",
   "metadata": {
    "slideshow": {
     "slide_type": "slide"
    }
   },
   "source": [
    "# Stability of closed-loop control systems"
   ]
  },
  {
   "cell_type": "markdown",
   "metadata": {
    "slideshow": {
     "slide_type": "slide"
    }
   },
   "source": [
    "#### Open-loop stability\n",
    "\n",
    "Consider a process without any feedback control, operating at a steady state."
   ]
  },
  {
   "cell_type": "markdown",
   "metadata": {
    "slideshow": {
     "slide_type": "fragment"
    }
   },
   "source": [
    "Such a process is **open-loop stable** if it returns to the original steady state after a transient (not sustained!) disturbance occurs."
   ]
  },
  {
   "cell_type": "markdown",
   "metadata": {
    "slideshow": {
     "slide_type": "fragment"
    }
   },
   "source": [
    "Most industrial processes are open-loop stable.\n",
    "Some are not, e.g. runaway reactions in an exothermic reactor."
   ]
  },
  {
   "cell_type": "markdown",
   "metadata": {
    "slideshow": {
     "slide_type": "subslide"
    }
   },
   "source": [
    "#### [bounded-input, bounded-output] (BIBO) stability\n",
    "\n",
    "An unconstrained, linear system is BIBO stable if the output response is bounded for all bounded inputs. Otherwise, it is unstable."
   ]
  },
  {
   "cell_type": "markdown",
   "metadata": {
    "slideshow": {
     "slide_type": "subslide"
    }
   },
   "source": [
    "\"unconstrained system\"?\n",
    "\n",
    "... the idealized situation where there are no physical limits on the output variable.\n",
    "\n",
    "In reality, an unstable process manifests in e.g. bang-bang of control valves as they oscillate between fully open and fully closed."
   ]
  },
  {
   "cell_type": "markdown",
   "metadata": {
    "slideshow": {
     "slide_type": "slide"
    }
   },
   "source": [
    "#### Questions with which to grapple\n",
    "* What are the conditions for a linear system desribed by transfer function $G(s)$ to be BIBO stable?\n",
    "* Can an open-loop stable process be unstabilized by the addition of a feedback control system?\n",
    "* Can an open-loop unstable process be stabilized by the addition of a feedback control system?"
   ]
  },
  {
   "cell_type": "markdown",
   "metadata": {
    "slideshow": {
     "slide_type": "slide"
    }
   },
   "source": [
    "## Criterion for BIBO stability\n",
    "\n",
    "<center>\n",
    "    <img src=\"generic_tf.png\" width=500>\n",
    "</center>\n",
    "\n",
    "Let's look at it from the point of view of a general transfer function, $G(s)$."
   ]
  },
  {
   "cell_type": "markdown",
   "metadata": {
    "slideshow": {
     "slide_type": "subslide"
    }
   },
   "source": [
    "... but what about the control system?"
   ]
  },
  {
   "cell_type": "markdown",
   "metadata": {
    "slideshow": {
     "slide_type": "slide"
    }
   },
   "source": [
    "#### Consider the standard block diagram of a feedback control system\n",
    "\n",
    "<center>\n",
    "    <img src=\"standard_block_diagram.png\" width=1000>\n",
    "</center>"
   ]
  },
  {
   "cell_type": "markdown",
   "metadata": {
    "slideshow": {
     "slide_type": "subslide"
    }
   },
   "source": [
    "The open-loop transfer function is:\n",
    "    \n",
    "\\begin{equation}\n",
    "    G_{OL}(s)=G_c G_v G_p G_m\n",
    "\\end{equation}\n",
    "\n",
    "(conceptually, open the loop just before the comparator; then $G_{OL}(s)$ relates $\\tilde{Y}_m$ to error $E$; i.e. $\\tilde{Y}_m=G_{OL}E$ given $D^*=0$)"
   ]
  },
  {
   "cell_type": "markdown",
   "metadata": {
    "slideshow": {
     "slide_type": "subslide"
    }
   },
   "source": [
    "The closed loop servo response is characterized by:\n",
    "\n",
    "\\begin{equation}\n",
    "\\frac{Y^*}{Y_{sp}^*} = \\frac{K_m G_c G_v G_p}{1+ G_{OL}}\n",
    "\\end{equation}\n",
    "\n",
    "<center>\n",
    "    <img src=\"servo.png\" width=600>\n",
    "</center>"
   ]
  },
  {
   "cell_type": "markdown",
   "metadata": {
    "slideshow": {
     "slide_type": "subslide"
    }
   },
   "source": [
    "The closed loop regulatory response is characterized by:\n",
    "\n",
    "\\begin{equation}\n",
    "\\frac{Y^*}{D^*} = \\frac{G_d}{1+ G_{OL}}\n",
    "\\end{equation}\n",
    "\n",
    "<center>\n",
    "    <img src=\"regulator.png\" width=600>\n",
    "</center>"
   ]
  },
  {
   "cell_type": "markdown",
   "metadata": {
    "slideshow": {
     "slide_type": "subslide"
    }
   },
   "source": [
    "... so we can study the BIBO stability of a general transfer function $G(s)$ and apply these concepts to $\\frac{G_d}{1+G_{OL}}$ and $\\frac{K_m G_c G_v G_p}{1+ G_{OL}}$ to assess closed-loop stability."
   ]
  },
  {
   "cell_type": "markdown",
   "metadata": {
    "slideshow": {
     "slide_type": "slide"
    }
   },
   "source": [
    "## Criterion for BIBO stability\n",
    "\n",
    "<center>\n",
    "    <img src=\"generic_tf.png\" width=500>\n",
    "</center>\n",
    "\n",
    "For a bounded response to a bounded input (BIBO stability), all poles of the transfer function $G(s)$ must be negative or have negative real parts. If *any* of the poles possess positive real parts, the system is unstable."
   ]
  },
  {
   "cell_type": "markdown",
   "metadata": {
    "slideshow": {
     "slide_type": "subslide"
    }
   },
   "source": [
    "Let's show this. Consider a small step input $U^*(s)=\\epsilon/s$.\n",
    "\n",
    "The response is then $Y^*(s)=G(s)\\epsilon/s$. We want to know the conditions on $G(s)$ such that $y(t)$ is bounded.\n",
    "\n",
    "Factorize the rational function $G(s)$ in terms of its $P$ poles $p_k \\in \\mathbb{C}$ and $Z$ zeros $z_k \\in \\mathbb{C}$:\n",
    "\\begin{equation}\n",
    "    G(s) = c \\dfrac{(s-z_1)\\cdots(s-z_{Z})}{(s-p_1)\\cdots(s-p_P)}\n",
    "\\end{equation}\n",
    "$c$ is some constant related to the gain. For a proper transfer function governing a physical system, certainly $Z\\leq P$."
   ]
  },
  {
   "cell_type": "markdown",
   "metadata": {
    "slideshow": {
     "slide_type": "subslide"
    }
   },
   "source": [
    "\\begin{equation}\n",
    "    \\implies Y^*(s) = \\epsilon c \\dfrac{(s-z_1)\\cdots(s-z_{Z})}{s(s-p_1)\\cdots(s-p_P)}\n",
    "\\end{equation} \n",
    "\n",
    "To take the inverse Laplace transform, we resort to partial fraction expansion. Assuming the poles $p_k$ are distinct:\n",
    "\\begin{equation}\n",
    "    Y^*(s)= \\frac{A}{s} + \\sum_{k=1}^{P} \\frac{B_k}{s-p_k}\n",
    "\\end{equation}\n",
    "where $A$, $B_k$ are constants to be determined. The first term arose directly from the step input.\n",
    "\n",
    "The inverse Laplace transform is now:\n",
    "\\begin{equation}\n",
    "    y^*(t)=\\mathcal{L}^{-1}[Y^*(s)] = A + \\sum_{k=1}^{P} B_k e^{p_k t}.\n",
    "\\end{equation}"
   ]
  },
  {
   "cell_type": "markdown",
   "metadata": {
    "slideshow": {
     "slide_type": "fragment"
    }
   },
   "source": [
    "The poles $p_k$ qualitatively determine the character of the response. The zeros $z_k$ just influence the constants $A$, $B_k$.\n",
    "* $p_k$ has imaginary parts $\\implies$ term $k$ introduces oscillatory behavior in response\n",
    "* $p_k$ has negative real part $\\implies$ term $k$ decays with time (a transient) e.g. $e^{-5t}sin(3t)$ or $e^{-2t}$\n",
    "* $p_k$ has positive real part $\\implies$ term $k$ grows with time, unboundedly. e.g. $e^{5t}sin(3t)$ or $e^{2t}$\n",
    "* as $|Re[p_k]|$ gets larger (further from imaginary axis), term $k$ decays/grows more rapidly\n",
    "* as $|Im[p_k]|$ gets larger (further from real axis), frequency of oscillations increases"
   ]
  },
  {
   "cell_type": "markdown",
   "metadata": {
    "slideshow": {
     "slide_type": "subslide"
    }
   },
   "source": [
    "If $Re[p_k]>0$ for *any* $k$, then the response is not bounded.\n",
    "\n",
    "If the poles were repeated and not distinct, we would get terms such as $t^n e^{p_k t}$ and the same conclusions hold."
   ]
  },
  {
   "cell_type": "markdown",
   "metadata": {
    "slideshow": {
     "slide_type": "slide"
    }
   },
   "source": [
    "### Stability of closed-loop control systems\n",
    "\n",
    "For the response of a closed-loop system to both set point changes and disturbances to be stable...\n",
    "\n",
    "<center>\n",
    "    <img src=\"servo.png\" width=250>\n",
    "    <img src=\"regulator.png\" width=250>\n",
    "</center>\n",
    "\n",
    "The roots of the **characteristic equation**:\n",
    "\\begin{equation}\n",
    "1+ G_{OL}(s)=0\n",
    "\\end{equation}\n",
    "must all have negative real parts (i.e. lie in the left-half plane)."
   ]
  },
  {
   "cell_type": "markdown",
   "metadata": {
    "slideshow": {
     "slide_type": "subslide"
    }
   },
   "source": [
    "#### Example\n",
    "\n",
    "<center>\n",
    "    <img src=\"ex11pt7.png\" width=800>\n",
    "</center>\n",
    "\n",
    "For what values of $K_c$ is the closed-loop response stable?"
   ]
  },
  {
   "cell_type": "markdown",
   "metadata": {
    "slideshow": {
     "slide_type": "subslide"
    }
   },
   "source": [
    "The open loop transfer function is $G_{OL}(s)=\\frac{K_c}{(2s+1)(5s+1)}$.\n",
    "\n",
    "Therefore the characteristic equation determining BIBO stability is:\n",
    "\n",
    "$1+G_{OL}(s)=1+ \\frac{K_c}{(2s+1)(5s+1)} = 0$\n",
    "\n",
    "$\\implies (2s+1)(5s+1)+K_c= 0$\n",
    "\n",
    "$\\implies 10s^2+7s+1+K_c=0$"
   ]
  },
  {
   "cell_type": "markdown",
   "metadata": {
    "slideshow": {
     "slide_type": "subslide"
    }
   },
   "source": [
    "The quadratic formula gives the solution to the characteristic equation:\n",
    "\n",
    "$s=\\frac{-7 \\pm \\sqrt{49-40(1+K_c})}{20}$\n",
    "\n",
    "The question now is: is there a set of controller gains $K_c$ that lead to this $s$ having positive real parts?"
   ]
  },
  {
   "cell_type": "markdown",
   "metadata": {
    "slideshow": {
     "slide_type": "subslide"
    }
   },
   "source": [
    "We can factor 7 out of the radical and rewrite this expression as:\n",
    "\n",
    "$20s=-7 \\pm 7\\sqrt{1-\\frac{40}{49}(1+K_c)}$\n",
    "\n",
    "to clearly see that the roots are\n",
    "$20s_+=-7 + 7\\sqrt{1-\\frac{40}{49}(1+K_c)}$ and\n",
    "$20s_-=-7 - 7\\sqrt{1-\\frac{40}{49}(1+K_c)}$. Definitely $s_-$ has negative real parts for all $K_c$ but $s_+>0$ if the radical is a number greater than one:\n",
    "\n",
    "$1-\\frac{40}{49}(1+K_c)>1\\implies$ unstable. i.e. $K_c<-1 \\implies$ unstable."
   ]
  },
  {
   "cell_type": "markdown",
   "metadata": {
    "slideshow": {
     "slide_type": "subslide"
    }
   },
   "source": [
    "In some sense, this control loop is extremely stable because $K_c>0$ for the controller to act in the correct direction. That is, we can choose $K_c$ to have the wrong sign for this control loop, and have the closed loop response remain stable if $|K_c|<1$!"
   ]
  },
  {
   "cell_type": "markdown",
   "metadata": {
    "slideshow": {
     "slide_type": "slide"
    }
   },
   "source": [
    "## Choose sign of $K_c$ such that gain of $G_{OL}(s)$ is positive\n",
    "\n",
    "<center>\n",
    "    <img src=\"G_OL.png\" width=400>\n",
    "</center>\n",
    "\n",
    "$e(t)=y_{sp}-y_m(t)$\n",
    "\n",
    "Feed the control system an artificial, positive step in the error $e(t)$. The controller should think $y_m$ is too small, then, and thus take action so as to *increase* $y_m$. So we should design the control system such that a positive step change in the error results in a *positive* output in ($y_m$) $\\implies$ gain of $G_{OL}(s)$ must be positive."
   ]
  },
  {
   "cell_type": "markdown",
   "metadata": {
    "slideshow": {
     "slide_type": "slide"
    }
   },
   "source": [
    "## An open-loop stable process can be destabilized by a control system\n",
    "\n",
    "<center>\n",
    "    <img src=\"ex11pt4.png\" width=800>\n",
    "</center>"
   ]
  },
  {
   "cell_type": "markdown",
   "metadata": {
    "slideshow": {
     "slide_type": "subslide"
    }
   },
   "source": [
    "What is the charactersitic equation here?\n",
    "\n",
    "\\begin{equation}\n",
    "    1+G_{OL}=0 \\implies (2s+1)(5s+1)(s+1) + K_c = 0\n",
    "\\end{equation}\n",
    "The roots depend on $K_c$, hence $K_c$ can conceivably change the stability of the closed-loop servo response."
   ]
  },
  {
   "cell_type": "markdown",
   "metadata": {
    "slideshow": {
     "slide_type": "fragment"
    }
   },
   "source": [
    "For $G_{OL}(s)$ to possess a positive gain (for corrective controller action), require $K_c>0$."
   ]
  },
  {
   "cell_type": "markdown",
   "metadata": {
    "slideshow": {
     "slide_type": "fragment"
    }
   },
   "source": [
    "`roots` function in MATLAB calculates the roots and reveals:\n",
    "* for $K_c=2, 6$, all three roots have negative real parts (stable)\n",
    "* for $K_c=15$, there are two roots with positive real parts (unstable)\n",
    "\n",
    "Lesson: a controller can be too aggressive (too large $|K_c|$, even if chosen with correct sign for corrective action) and render the closed loop response unstable."
   ]
  },
  {
   "cell_type": "markdown",
   "metadata": {
    "slideshow": {
     "slide_type": "subslide"
    }
   },
   "source": [
    "Simulated (servo) response to unit step change in set point:\n",
    "\n",
    "<center>\n",
    "    <img src=\"instability.png\" width=450>\n",
    "</center>"
   ]
  },
  {
   "cell_type": "markdown",
   "metadata": {
    "slideshow": {
     "slide_type": "fragment"
    }
   },
   "source": [
    "A larger controller gain $K_c$ may yield a smaller rise time (time to first reach new steady state) [compare $K_c=6$ and $K_c=2$], but can induce instability [see $K_c=15$]. So this is a concrete example of where the controller gain "
   ]
  },
  {
   "cell_type": "markdown",
   "metadata": {
    "slideshow": {
     "slide_type": "slide"
    }
   },
   "source": [
    "## An open-loop unstable process can be stabilized by a feedback controller\n",
    "\n",
    "<center>\n",
    "    <img src=\"ex11pt8.png\" width=600>\n",
    "</center>\n",
    "\n",
    "Open-loop unstable because process transfer function $G_p(s)$ posesses pole at $s=1$ in the right-half plane."
   ]
  },
  {
   "cell_type": "markdown",
   "metadata": {
    "slideshow": {
     "slide_type": "subslide"
    }
   },
   "source": [
    "Characteristic equation is:\n",
    "\\begin{equation}\n",
    "1+ G_{OL}(s) = 0 \\implies s - 1 - 0.2 K_c = 0.\n",
    "\\end{equation}\n",
    "\n",
    "Single root at $s=1+0.2K_c$.\n",
    "\n",
    "If $K_c<5$, root lies in left-half plane (i.e. root is negative) and closed-loop response is stable! So gain $K_c$ needs to be sufficiently large in magnitude to stabalize and control this inherently unstable process."
   ]
  }
 ],
 "metadata": {
  "kernelspec": {
   "display_name": "Julia 0.6.4",
   "language": "julia",
   "name": "julia-0.6"
  },
  "language_info": {
   "file_extension": ".jl",
   "mimetype": "application/julia",
   "name": "julia",
   "version": "0.6.4"
  }
 },
 "nbformat": 4,
 "nbformat_minor": 2
}
