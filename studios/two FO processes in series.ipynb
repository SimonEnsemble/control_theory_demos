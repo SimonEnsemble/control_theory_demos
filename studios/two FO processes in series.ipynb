{
 "cells": [
  {
   "cell_type": "code",
   "execution_count": 1,
   "metadata": {},
   "outputs": [],
   "source": [
    "using Controlz # this *might* take a few min to compile\n",
    "using PyPlot # for plotting via matplotlib\n",
    "using Printf\n",
    "\n",
    "# (optional) hipster plot theme\n",
    "PyPlot.matplotlib.style.use(normpath(joinpath(pathof(Controlz), \"..\", \"hipster.mplstyle\")))"
   ]
  },
  {
   "cell_type": "markdown",
   "metadata": {},
   "source": [
    "# drug partitioning between blood stream and GI tract\n",
    "\n",
    "(continuing from the written portion of the studio...)\n",
    "\n",
    "(1) Use the following parameters:\n",
    "* $\\alpha=1/6$ hr$^{-1}$\n",
    "* $\\beta = 1/4$ hr$^{-1}$\n",
    "* $V_b=V_g=1$ L\n",
    "\n",
    "Define them as variables below. Use Julia's unicode capability!"
   ]
  },
  {
   "cell_type": "code",
   "execution_count": 15,
   "metadata": {},
   "outputs": [
    {
     "data": {
      "text/plain": [
       "1.0"
      ]
     },
     "execution_count": 15,
     "metadata": {},
     "output_type": "execute_result"
    }
   ],
   "source": [
    "β = 1.0 / 4.0\n",
    "α = 1.0 / 6.0\n",
    "Vb = Vg = 1.0"
   ]
  },
  {
   "cell_type": "markdown",
   "metadata": {},
   "source": [
    "(2) contruct the transfer function from part (a) in `Controlz.jl` that relates changes in $I$ to changes in $G$."
   ]
  },
  {
   "cell_type": "code",
   "execution_count": 16,
   "metadata": {},
   "outputs": [
    {
     "data": {
      "text/plain": [
       "\n",
       "    4.0\n",
       "-----------\n",
       "4.0*s + 1.0"
      ]
     },
     "execution_count": 16,
     "metadata": {},
     "output_type": "execute_result"
    }
   ],
   "source": [
    "g_gi = 1 / (β * Vg) / (s / β + 1)"
   ]
  },
  {
   "cell_type": "markdown",
   "metadata": {},
   "source": [
    "(3) contruct the transfer function from part (b) in `Controlz.jl` that relates changes in $G$ to changes in $B$."
   ]
  },
  {
   "cell_type": "code",
   "execution_count": 17,
   "metadata": {},
   "outputs": [
    {
     "data": {
      "text/plain": [
       "\n",
       "    1.5\n",
       "-----------\n",
       "6.0*s + 1.0"
      ]
     },
     "execution_count": 17,
     "metadata": {},
     "output_type": "execute_result"
    }
   ],
   "source": [
    "g_bg = β * Vg / (α * Vb) / (s / α + 1)"
   ]
  },
  {
   "cell_type": "markdown",
   "metadata": {},
   "source": [
    "(4) contruct the transfer function from part (c) in `Controlz.jl` that relates changes in $I$ to changes in $B$."
   ]
  },
  {
   "cell_type": "code",
   "execution_count": 18,
   "metadata": {},
   "outputs": [
    {
     "data": {
      "text/plain": [
       "\n",
       "          6.0\n",
       "-----------------------\n",
       "24.0*s^2 + 10.0*s + 1.0"
      ]
     },
     "execution_count": 18,
     "metadata": {},
     "output_type": "execute_result"
    }
   ],
   "source": [
    "g_bi = 1 / (α * Vb) / ((s / α + 1) * (s / β + 1))"
   ]
  },
  {
   "cell_type": "markdown",
   "metadata": {},
   "source": [
    "(5) the transfer function from (4) should be the product of the two transfer functions from part (2) and (3), right? compute the product of these transfer functions in `Controlz.jl`. yes, `Controlz.jl` can multiply transfer functions for you! see [docs](https://simonensemble.github.io/Controlz.jl/dev/tfs/#transfer-function-algebra-1). are they the same indeed?"
   ]
  },
  {
   "cell_type": "code",
   "execution_count": 19,
   "metadata": {},
   "outputs": [
    {
     "data": {
      "text/plain": [
       "\n",
       "          6.0\n",
       "-----------------------\n",
       "24.0*s^2 + 10.0*s + 1.0"
      ]
     },
     "execution_count": 19,
     "metadata": {},
     "output_type": "execute_result"
    }
   ],
   "source": [
    "g_gi * g_bg"
   ]
  },
  {
   "cell_type": "markdown",
   "metadata": {},
   "source": [
    "instead of looking at the numbers, to compare by eye, you can let `Controlz.jl` compare the transfer functions form you using `g1 == g2` or `isapprox(g1, g2)`."
   ]
  },
  {
   "cell_type": "code",
   "execution_count": 20,
   "metadata": {},
   "outputs": [
    {
     "data": {
      "text/plain": [
       "true"
      ]
     },
     "execution_count": 20,
     "metadata": {},
     "output_type": "execute_result"
    }
   ],
   "source": [
    "g_gi * g_bg == g_bi"
   ]
  },
  {
   "cell_type": "markdown",
   "metadata": {},
   "source": [
    "(6) visualize the poles of this second order transfer function $B(s)/I(s)$ using `viz_poles_and_zeros`. Are the poles real? Do the poles have imaginary parts? Are the real parts of the poles negative? etc."
   ]
  },
  {
   "cell_type": "code",
   "execution_count": 21,
   "metadata": {},
   "outputs": [
    {
     "data": {
      "image/png": "[encoded data removed]",
      "text/plain": [
       "Figure(PyObject <Figure size 640x480 with 1 Axes>)"
      ]
     },
     "metadata": {},
     "output_type": "display_data"
    }
   ],
   "source": [
    "viz_poles_and_zeros(g_bi)"
   ]
  },
  {
   "cell_type": "markdown",
   "metadata": {},
   "source": [
    "(7) Swallowing a pill of $A=3$ mg at $t=0$ can be modeled as an impulse input $I(t)=A \\delta(t)$, with $\\delta(t)$ the Dirac delta function. In `Controlz.jl`, simulate the response $b(t)$ to this pill-swallowing input if $A=3$ mg. simulate for $t=24$ hours. use `ylabel(\"blah\")` and `xlabel(\"blah\")` after `viz_response` to overwrite the y- and x-labels with appropriate labels that indicate units."
   ]
  },
  {
   "cell_type": "code",
   "execution_count": null,
   "metadata": {},
   "outputs": [],
   "source": [
    "A = 3.0\n",
    "I = A\n",
    "B = g_bi * I\n",
    "\n",
    "t, b = simulate(B, 24.0)\n",
    "viz_response(t, b)\n",
    "ylabel(L\"$b(t)$ [mg/L]\")\n",
    "xlabel(L\"$t$ [hr]\")"
   ]
  },
  {
   "cell_type": "markdown",
   "metadata": {},
   "source": [
    "(7a) what is qualitatively different about the first and this second order impulse response?"
   ]
  },
  {
   "cell_type": "markdown",
   "metadata": {},
   "source": [
    "the peak concentration is not at $t=0$ here, whereas it is in the first order impulse response."
   ]
  },
  {
   "cell_type": "markdown",
   "metadata": {},
   "source": [
    "(7b) what is the peak concentration of the drug in the blood stream? do not eyeball the figure; rather use Julia. hint: there is a `maximum` function."
   ]
  },
  {
   "cell_type": "code",
   "execution_count": null,
   "metadata": {},
   "outputs": [],
   "source": [
    "println(\"max concentration in blood (mg/L): \", maximum(b))"
   ]
  },
  {
   "cell_type": "markdown",
   "metadata": {},
   "source": [
    "(7c) when (at what time $t$) does the peak blood concentration occur? again, use code to answer this question. the `argmax` function might be helpful. (see [docs](https://docs.julialang.org/en/v1/base/collections/#Base.argmax))"
   ]
  },
  {
   "cell_type": "code",
   "execution_count": 11,
   "metadata": {},
   "outputs": [
    {
     "name": "stdout",
     "output_type": "stream",
     "text": [
      "time when max concentration in blood occurs (hr): 4.948461546391752\n"
     ]
    }
   ],
   "source": [
    "println(\"time when max concentration in blood occurs (hr): \", t[argmax(b)])"
   ]
  },
  {
   "cell_type": "markdown",
   "metadata": {},
   "source": [
    "(7d) the drug is not effective if its concentration in the blood is less than 0.6 mg/L.\n",
    "\n",
    "(i) how many hours does it take for the drug to be effective?\n",
    "\n",
    "(ii) when does the effectiveness of the drug wear off?\n",
    "\n",
    "this is a programming exercise; do not eyeball the figure, but rather use the arrays from `simulate` to answer this question. \n",
    "\n",
    "options for an approach:\n",
    "* the traditional way. write a `for` loop and print something within the for loop under certain conditions.\n",
    "* the Julia way. use `findfirst`, `findlast`, and array comparison."
   ]
  },
  {
   "cell_type": "code",
   "execution_count": 12,
   "metadata": {},
   "outputs": [
    {
     "name": "stdout",
     "output_type": "stream",
     "text": [
      "drug becomes effective at t = 0.9897003092783505 hours\n",
      "drug becomes effective at t = 13.855674329896907 hours\n"
     ]
    }
   ],
   "source": [
    "# find first time it becomes effective\n",
    "#  (loop through array)\n",
    "for i = 1:length(t)\n",
    "    if b[i] > 0.6\n",
    "        println(\"drug becomes effective at t = \", t[i], \" hours\")\n",
    "        break\n",
    "    end\n",
    "end\n",
    "\n",
    "# find last time it becomes effective\n",
    "#  (loop through array backwards)\n",
    "for i = 0:length(t)-1\n",
    "    if b[end-i] > 0.6\n",
    "        println(\"drug becomes effective at t = \", t[end-i], \" hours\")\n",
    "        break\n",
    "    end\n",
    "end"
   ]
  },
  {
   "cell_type": "code",
   "execution_count": 13,
   "metadata": {},
   "outputs": [
    {
     "name": "stdout",
     "output_type": "stream",
     "text": [
      "drug effective for t ∈ [0.9897003092783505 , 13.855674329896907\n"
     ]
    }
   ],
   "source": [
    "println(\"drug effective for t ∈ [\", t[findfirst(b .> 0.6)], \" , \" , t[findlast(b .> 0.6)])"
   ]
  },
  {
   "cell_type": "markdown",
   "metadata": {},
   "source": [
    "(7e) redraw the impulse response and put as a horizontal, dashed line the effective concentration. Google \"matplotlib axhline\" to see how to do this. does your answer look reasonable?"
   ]
  },
  {
   "cell_type": "code",
   "execution_count": 14,
   "metadata": {},
   "outputs": [
    {
     "data": {
      "image/png": "[encoded data removed]",
      "text/plain": [
       "Figure(PyObject <Figure size 640x480 with 1 Axes>)"
      ]
     },
     "metadata": {},
     "output_type": "display_data"
    },
    {
     "data": {
      "text/plain": [
       "PyObject <matplotlib.lines.Line2D object at 0x7f1c09223630>"
      ]
     },
     "execution_count": 14,
     "metadata": {},
     "output_type": "execute_result"
    }
   ],
   "source": [
    "viz_response(t, b)\n",
    "ylabel(L\"$b(t)$ [mg/L]\")\n",
    "xlabel(L\"$t$ [hr]\")\n",
    "axhline(y=0.6, linestyle=\"--\", color=\"k\")"
   ]
  }
 ],
 "metadata": {
  "@webio": {
   "lastCommId": "202ffec11d8c468985bd81354a3c391d",
   "lastKernelId": "f17187b5-b7cd-432e-a85b-15a82d310e80"
  },
  "kernelspec": {
   "display_name": "Julia 1.3.1",
   "language": "julia",
   "name": "julia-1.3"
  },
  "language_info": {
   "file_extension": ".jl",
   "mimetype": "application/julia",
   "name": "julia",
   "version": "1.3.1"
  }
 },
 "nbformat": 4,
 "nbformat_minor": 2
}
